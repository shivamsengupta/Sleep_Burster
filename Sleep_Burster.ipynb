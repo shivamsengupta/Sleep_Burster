{
 "cells": [
  {
   "cell_type": "code",
   "execution_count": 1,
   "id": "6f327af4",
   "metadata": {},
   "outputs": [
    {
     "name": "stdout",
     "output_type": "stream",
     "text": [
      "Python version: 3.8.8 (default, Apr 13 2021, 15:08:03) [MSC v.1916 64 bit (AMD64)]\n"
     ]
    }
   ],
   "source": [
    "import sys\n",
    "print(\"Python version:\", sys.version)"
   ]
  },
  {
   "cell_type": "code",
   "execution_count": 2,
   "id": "5cae5c2d",
   "metadata": {},
   "outputs": [],
   "source": [
    "#!pip install cmake"
   ]
  },
  {
   "cell_type": "code",
   "execution_count": 8,
   "id": "4a65d8f3",
   "metadata": {},
   "outputs": [
    {
     "name": "stdout",
     "output_type": "stream",
     "text": [
      "Processing c:\\users\\sainee\\desktop\\dl project\\dlib-19.22.99-cp38-cp38-win_amd64.whl\n",
      "dlib is already installed with the same version as the provided wheel. Use --force-reinstall to force an installation of the wheel.\n"
     ]
    },
    {
     "name": "stderr",
     "output_type": "stream",
     "text": [
      "WARNING: Ignoring invalid distribution -rotobuf (c:\\users\\sainee\\anaconda3\\lib\\site-packages)\n",
      "WARNING: Ignoring invalid distribution -rotobuf (c:\\users\\sainee\\anaconda3\\lib\\site-packages)\n",
      "\n",
      "[notice] A new release of pip is available: 23.1.2 -> 23.3.1\n",
      "[notice] To update, run: python.exe -m pip install --upgrade pip\n"
     ]
    }
   ],
   "source": [
    "#!pip install dlib-19.22.99-cp38-cp38-win_amd64.whl"
   ]
  },
  {
   "cell_type": "code",
   "execution_count": 4,
   "id": "6553ee7a",
   "metadata": {},
   "outputs": [],
   "source": [
    "#!pip install playsound==1.2.2"
   ]
  },
  {
   "cell_type": "code",
   "execution_count": 9,
   "id": "8d4f3d6f",
   "metadata": {},
   "outputs": [
    {
     "name": "stdout",
     "output_type": "stream",
     "text": [
      "DON'T MOVE YOUR HEAD TOO RAPIDLY !!!\n"
     ]
    }
   ],
   "source": [
    "import cv2\n",
    "import numpy as np\n",
    "import dlib\n",
    "from imutils import face_utils\n",
    "import playsound\n",
    "import math\n",
    "import time\n",
    "\n",
    "\n",
    "cap=cv2.VideoCapture(0)\n",
    "def bny():\n",
    "    \n",
    "\n",
    "    detector = dlib.get_frontal_face_detector()\n",
    "    predictor= dlib.shape_predictor(\"shape_predictor_68_face_landmarks.dat\")\n",
    "    path=\"alarm2(trimmed).wav\"\n",
    "    (mStart, mEnd) = face_utils.FACIAL_LANDMARKS_IDXS[\"mouth\"]\n",
    "\n",
    "    sleep=0\n",
    "    drowsy=0\n",
    "    active=0\n",
    "    yawn_countdown = 0\n",
    "    status=\"\"\n",
    "    color=(0,0,0)\n",
    "\n",
    "    def compute(ptA,ptB):\n",
    "        dist=np.linalg.norm(ptA-ptB)\n",
    "        return dist\n",
    "\n",
    "\n",
    "    def blinked(a,b,c,d,e,f):\n",
    "        up=compute(b,d)+compute(c,e)\n",
    "        down=compute(a,f)\n",
    "        ratio=round((up/(2.0*down)),2)\n",
    "        if(ratio>0.25):\n",
    "            return 2\n",
    "        elif(ratio>0.20 and ratio<=0.25):\n",
    "            return 1\n",
    "        else:\n",
    "            return 0\n",
    "\n",
    "\n",
    "    def yawn(mouth):\n",
    "        return ((euclideanDist(mouth[2], mouth[10])+euclideanDist(mouth[4], mouth[8]))/(2*euclideanDist(mouth[0], mouth[6])))\n",
    "    def euclideanDist(a, b):\n",
    "        return (math.sqrt(math.pow(a[0]-b[0], 2)+math.pow(a[1]-b[1], 2)))\n",
    "\n",
    "\n",
    "    while True:\n",
    "        try:\n",
    "\n",
    "            ret,frame=cap.read()\n",
    "\n",
    "            gray=cv2.cvtColor(frame,cv2.COLOR_BGR2GRAY)\n",
    "\n",
    "            faces = detector(gray)\n",
    "            shape = face_utils.shape_to_np(predictor(frame, faces[0]))\n",
    "\n",
    "            for face in faces:\n",
    "                x1=face.left()\n",
    "                y1=face.top()\n",
    "                x2=face.right()\n",
    "                y2=face.bottom()\n",
    "\n",
    "                face_frame=frame.copy()\n",
    "                cv2.rectangle(face_frame, (x1,y1),(x2,y2),(0,255,0),2)\n",
    "\n",
    "                landmarks=predictor(gray,face)\n",
    "                landmarks=face_utils.shape_to_np(landmarks)\n",
    "\n",
    "                left_blink=blinked(landmarks[36],landmarks[37],landmarks[38],landmarks[41],landmarks[40],landmarks[39])\n",
    "                right_blink=blinked(landmarks[42],landmarks[43],landmarks[44],landmarks[47],landmarks[46],landmarks[45])\n",
    "\n",
    "\n",
    "                if(yawn_countdown>=75):\n",
    "                    cv2.putText(frame,\"YOU ARE ABOUT TO SLEEP !!!\",(150,40),cv2.FONT_HERSHEY_SIMPLEX,0.8,(0,0,255),2)\n",
    "\n",
    "\n",
    "                if(yawn(shape[mStart:mEnd])>0.6):\n",
    "                    cv2.putText(frame,\"YAWN DETECTED !!!\",(200,200),cv2.FONT_HERSHEY_SIMPLEX,0.8,(255,0,255),2)\n",
    "                    yawn_countdown+=1\n",
    "\n",
    "\n",
    "\n",
    "                if(left_blink==0 or right_blink==0):\n",
    "                    sleep+=1\n",
    "                    drowsy=0\n",
    "                    active=0\n",
    "                    if(sleep>6):\n",
    "                        status=\"SLEEPING !!!\"\n",
    "                        color=(0,0,255)\n",
    "                        playsound.playsound(path)\n",
    "                elif(left_blink==1 or right_blink==1):\n",
    "                    sleep=0\n",
    "                    drowsy+=1\n",
    "                    active=0\n",
    "                    if(drowsy>6):\n",
    "                        status=\"DROWSY !!!\"\n",
    "                        color=(255,0,0)\n",
    "                else:\n",
    "                    sleep=0\n",
    "                    drowsy=0\n",
    "                    active+=1\n",
    "                    if(active>6):\n",
    "                        status=\"ACTIVE :)\"\n",
    "                        color=(0,255,0)\n",
    "                cv2.putText(frame,status,(100,100),cv2.FONT_HERSHEY_SIMPLEX,1.2,color,3)\n",
    "\n",
    "                for n in range(0,68):\n",
    "                    (x,y)=landmarks[n]\n",
    "                    cv2.circle(face_frame,(x,y),1,(255,255,255),-1)\n",
    "        except Exception as e:\n",
    "            cv2.putText(frame,\"DON'T MOVE YOUR HEAD TOO RAPIDLY !!!\",(80,200),cv2.FONT_HERSHEY_SIMPLEX,0.8,(0,0,255),3)\n",
    "            time.sleep(0.2)\n",
    "            print(\"DON'T MOVE YOUR HEAD TOO RAPIDLY !!!\")\n",
    "\n",
    "\n",
    "\n",
    "        cv2.imshow(\"Frame: \",frame)\n",
    "        cv2.imshow(\"Result of detector: \",face_frame)\n",
    "        key=cv2.waitKey(1)\n",
    "        if key==27:\n",
    "            break\n",
    "bny()\n",
    "cap.release()\n",
    "cv2.destroyAllWindows()"
   ]
  },
  {
   "cell_type": "code",
   "execution_count": null,
   "id": "e3f14e78",
   "metadata": {},
   "outputs": [],
   "source": []
  }
 ],
 "metadata": {
  "kernelspec": {
   "display_name": "Python 3",
   "language": "python",
   "name": "python3"
  },
  "language_info": {
   "codemirror_mode": {
    "name": "ipython",
    "version": 3
   },
   "file_extension": ".py",
   "mimetype": "text/x-python",
   "name": "python",
   "nbconvert_exporter": "python",
   "pygments_lexer": "ipython3",
   "version": "3.8.8"
  }
 },
 "nbformat": 4,
 "nbformat_minor": 5
}
